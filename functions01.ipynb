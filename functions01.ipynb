{
 "cells": [
  {
   "cell_type": "code",
   "execution_count": 4,
   "id": "ec754ee5-a88f-4deb-b517-14435081a082",
   "metadata": {},
   "outputs": [],
   "source": [
    "# Define a function `having_fun` that prints \"Functions are FUN!\".\n",
    "def having_fun():\n",
    "    print(\"Functions are fun\")\n"
   ]
  },
  {
   "cell_type": "code",
   "execution_count": 7,
   "id": "f929040f-b15c-4f2d-8795-6800089b480f",
   "metadata": {},
   "outputs": [],
   "source": [
    "# Define a function `thirty_seven` that prints the sum of 18 and 19.\n",
    "def thirty_seven():\n",
    "    sum = 18+19\n",
    "    print(sum)"
   ]
  },
  {
   "cell_type": "code",
   "execution_count": 8,
   "id": "7d3f6b25-df5c-4693-8ad9-3aef1690ca08",
   "metadata": {},
   "outputs": [
    {
     "name": "stdout",
     "output_type": "stream",
     "text": [
      "Functions are fun\n",
      "37\n"
     ]
    }
   ],
   "source": [
    "# Call the two functions you've defined so far.\n",
    "having_fun()\n",
    "thirty_seven()"
   ]
  },
  {
   "cell_type": "code",
   "execution_count": 9,
   "id": "60b47861-97a9-462e-b749-192fe08f73a7",
   "metadata": {},
   "outputs": [],
   "source": [
    "# Define a function `hello` that takes in a string parameter and prints the parameter variable.\n",
    "def hello(string_parm):\n",
    "    print(string_parm)\n",
    "    "
   ]
  },
  {
   "cell_type": "code",
   "execution_count": 10,
   "id": "f5471798-97f1-44a0-b5ea-63fd7a3f11bf",
   "metadata": {},
   "outputs": [
    {
     "name": "stdout",
     "output_type": "stream",
     "text": [
      "hello world\n"
     ]
    }
   ],
   "source": [
    "hello(\"hello world\")"
   ]
  },
  {
   "cell_type": "code",
   "execution_count": 11,
   "id": "217c69d0-96ed-4dcc-a6fe-43493e9ca76e",
   "metadata": {},
   "outputs": [],
   "source": [
    "# Define a function `user_input` that asks the user \"What is your name?\" and stores it in a variable called \n",
    "# `user_name` and print the user's name.\n",
    "def user_input():\n",
    "    user_name = input(\"What is your name?\")\n",
    "    print(user_name)"
   ]
  },
  {
   "cell_type": "code",
   "execution_count": 12,
   "id": "bf83cf0b-f4d4-4f20-81fb-8a38185ce4cc",
   "metadata": {},
   "outputs": [
    {
     "name": "stdin",
     "output_type": "stream",
     "text": [
      "What is your name? mike\n"
     ]
    },
    {
     "name": "stdout",
     "output_type": "stream",
     "text": [
      "mike\n"
     ]
    }
   ],
   "source": [
    "# Call your `user_input` function.\n",
    "user_input()"
   ]
  },
  {
   "cell_type": "code",
   "execution_count": 13,
   "id": "63681b52-e881-43ef-a727-1d355e74716e",
   "metadata": {},
   "outputs": [],
   "source": [
    "# Define a function `good_day` that creates a input dialogue asking the user \"Are you having a nice day?\" and prints the response\n",
    "def good_day():\n",
    "    response = input(\"Are you having a nice day?\")\n",
    "    print(response)"
   ]
  },
  {
   "cell_type": "code",
   "execution_count": 14,
   "id": "fbb6657a-ba7e-444b-9837-9946852db074",
   "metadata": {},
   "outputs": [
    {
     "name": "stdin",
     "output_type": "stream",
     "text": [
      "Are you having a nice day? yes\n"
     ]
    },
    {
     "name": "stdout",
     "output_type": "stream",
     "text": [
      "yes\n"
     ]
    }
   ],
   "source": [
    "good_day()"
   ]
  },
  {
   "cell_type": "code",
   "execution_count": 15,
   "id": "97e2792c-13bc-4677-92d8-278b293a36fd",
   "metadata": {},
   "outputs": [],
   "source": [
    "# Define a function `average` that calculates the average between two parameters and returns the average.\n",
    "def average(num_1, num_2):\n",
    "    average = (num_1 + num_2) / 2\n",
    "    return average"
   ]
  },
  {
   "cell_type": "code",
   "execution_count": 16,
   "id": "29b2e499-f5ff-446b-8b94-f0b7e8b51c05",
   "metadata": {},
   "outputs": [
    {
     "name": "stdout",
     "output_type": "stream",
     "text": [
      "the average is 50.0\n"
     ]
    }
   ],
   "source": [
    "# Call the `average` function and assign to a variable `calculated_average`.\n",
    "\n",
    "calculated_average = average(90, 10)\n",
    "print(f\"the average is {calculated_average}\")"
   ]
  },
  {
   "cell_type": "code",
   "execution_count": null,
   "id": "8d25ab43-9316-4843-96da-afeebc5458e3",
   "metadata": {},
   "outputs": [],
   "source": []
  }
 ],
 "metadata": {
  "kernelspec": {
   "display_name": "Python 3 (ipykernel)",
   "language": "python",
   "name": "python3"
  },
  "language_info": {
   "codemirror_mode": {
    "name": "ipython",
    "version": 3
   },
   "file_extension": ".py",
   "mimetype": "text/x-python",
   "name": "python",
   "nbconvert_exporter": "python",
   "pygments_lexer": "ipython3",
   "version": "3.7.13"
  }
 },
 "nbformat": 4,
 "nbformat_minor": 5
}
